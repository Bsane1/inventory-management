{
 "cells": [
  {
   "cell_type": "code",
   "execution_count": 9,
   "id": "74cf1e54-dbb1-4d0b-835d-7006fa70f6df",
   "metadata": {
    "tags": []
   },
   "outputs": [],
   "source": [
    "# Item class to represent individual items in the inventory\n",
    "class Item:\n",
    "    def __init__(self, name, quantity, price):\n",
    "        \"\"\"\n",
    "        Initialize the item with a name, quantity, and price.\n",
    "        :param name: Name of the item\n",
    "        :param quantity: Quantity of the item\n",
    "        :param price: Price of the item\n",
    "        \"\"\"\n",
    "        self.name = name  # Store the name of the item\n",
    "        self.quantity = quantity  # Store the quantity of the item\n",
    "        self.price = price  # Store the price of the item\n",
    "\n",
    "    def update(self, name=None, quantity=None, price=None):\n",
    "        \"\"\"\n",
    "        Update the item's details if new values are provided.\n",
    "        :param name: New name of the item (optional)\n",
    "        :param quantity: New quantity of the item (optional)\n",
    "        :param price: New price of the item (optional)\n",
    "        \"\"\"\n",
    "        if name is not None:  # Check if a new name is provided\n",
    "            self.name = name\n",
    "        if quantity is not None:  # Check if a new quantity is provided\n",
    "            self.quantity = quantity\n",
    "        if price is not None:  # Check if a new price is provided\n",
    "            self.price = price\n",
    "\n",
    "    def __str__(self):\n",
    "        \"\"\"\n",
    "        Define how the item will be represented when printed.\n",
    "        :return: A formatted string containing the item's details.\n",
    "        \"\"\"\n",
    "        return f\"Item: {self.name}, Quantity: {self.quantity}, Price: {self.price}\"\n",
    "\n",
    "\n",
    "# Inventory class to manage the collection of items\n",
    "class Inventory:\n",
    "    def __init__(self):\n",
    "        \"\"\"\n",
    "        Initialize the inventory with an empty dictionary to store items.\n",
    "        \"\"\"\n",
    "        self.items = {}  # Dictionary to store items, where key is item_id and value is the Item object\n",
    "    \n",
    "    def add_item(self, item_id, name, quantity, price):\n",
    "        \"\"\"\n",
    "        Add a new item to the inventory.\n",
    "        :param item_id: Unique identifier for the item\n",
    "        :param name: Name of the item\n",
    "        :param quantity: Quantity of the item\n",
    "        :param price: Price of the item\n",
    "        \"\"\"\n",
    "        if item_id in self.items:  # Check if the item_id already exists\n",
    "            print(\"Item ID already exists. Use update to modify it.\")\n",
    "        else:\n",
    "            self.items[item_id] = Item(name, quantity, price)  # Add the item to the inventory\n",
    "            print(f\"Item '{name}' added to inventory.\")\n",
    "    \n",
    "    def display_items(self):\n",
    "        \"\"\"\n",
    "        Display all the items in the inventory.\n",
    "        \"\"\"\n",
    "        if not self.items:  # Check if the inventory is empty\n",
    "            print(\"Inventory is empty.\")\n",
    "        else:\n",
    "            for item_id, item in self.items.items():  # Iterate through the items and print each one\n",
    "                print(f\"ID: {item_id}, {item}\")  # item.__str__() is called here automatically\n",
    "\n",
    "    def update_item(self, item_id, name=None, quantity=None, price=None):\n",
    "        \"\"\"\n",
    "        Update the details of an existing item in the inventory.\n",
    "        :param item_id: Unique identifier for the item\n",
    "        :param name: New name for the item (optional)\n",
    "        :param quantity: New quantity for the item (optional)\n",
    "        :param price: New price for the item (optional)\n",
    "        \"\"\"\n",
    "        if item_id in self.items:  # Check if the item exists in the inventory\n",
    "            item = self.items[item_id]  # Get the item\n",
    "            item.update(name, quantity, price)  # Call the update method from Item class\n",
    "            print(f\"Item '{item_id}' updated.\")\n",
    "        else:\n",
    "            print(\"Item ID not found.\")  # Error message if item doesn't exist\n",
    "\n",
    "    def delete_item(self, item_id):\n",
    "        \"\"\"\n",
    "        Delete an item from the inventory.\n",
    "        :param item_id: Unique identifier for the item\n",
    "        \"\"\"\n",
    "        if item_id in self.items:  # Check if the item exists\n",
    "            del self.items[item_id]  # Delete the item from the inventory\n",
    "            print(f\"Item '{item_id}' deleted from inventory.\")\n",
    "        else:\n",
    "            print(\"Item ID not found.\")  # Error message if item doesn't exist\n"
   ]
  },
  {
   "cell_type": "code",
   "execution_count": 10,
   "id": "e63d85b1-1b1d-4738-b594-6a907cda3263",
   "metadata": {
    "tags": []
   },
   "outputs": [
    {
     "name": "stdout",
     "output_type": "stream",
     "text": [
      "Item 'Laptop' added to inventory.\n",
      "Item 'Mouse' added to inventory.\n",
      "ID: 1, Item: Laptop, Quantity: 5, Price: 1000\n",
      "ID: 2, Item: Mouse, Quantity: 10, Price: 20\n"
     ]
    }
   ],
   "source": [
    "# Create an inventory instance\n",
    "inventory = Inventory()\n",
    "\n",
    "# Add items to the inventory\n",
    "inventory.add_item(1, \"Laptop\", 5, 1000)\n",
    "inventory.add_item(2, \"Mouse\", 10, 20)\n",
    "\n",
    "# Display items in the inventory\n",
    "inventory.display_items()"
   ]
  },
  {
   "cell_type": "code",
   "execution_count": 11,
   "id": "255e019f-8218-4f56-9ebc-fd16cb0a8462",
   "metadata": {
    "tags": []
   },
   "outputs": [
    {
     "name": "stdout",
     "output_type": "stream",
     "text": [
      "Item '2' updated.\n",
      "ID: 1, Item: Laptop, Quantity: 5, Price: 1000\n",
      "ID: 2, Item: Mouse, Quantity: 15, Price: 18\n",
      "Item '1' deleted from inventory.\n",
      "ID: 2, Item: Mouse, Quantity: 15, Price: 18\n"
     ]
    }
   ],
   "source": [
    "# Update an item in the inventory\n",
    "inventory.update_item(2, quantity=15, price=18)\n",
    "\n",
    "# Display items after update\n",
    "inventory.display_items()\n",
    "\n",
    "# Delete an item\n",
    "inventory.delete_item(1)\n",
    "\n",
    "# Display items after deletion\n",
    "inventory.display_items()"
   ]
  },
  {
   "cell_type": "code",
   "execution_count": null,
   "id": "9207afdb-f6f7-47c4-b2de-7f7446bb0731",
   "metadata": {
    "tags": []
   },
   "outputs": [
    {
     "name": "stdout",
     "output_type": "stream",
     "text": [
      "\n",
      "--- Inventory Management System ---\n",
      "1. Add Item\n",
      "2. Display Items\n",
      "3. Update Item\n",
      "4. Delete Item\n",
      "5. Exit\n"
     ]
    },
    {
     "name": "stdin",
     "output_type": "stream",
     "text": [
      "Enter your choice:  Add Item\n"
     ]
    },
    {
     "name": "stdout",
     "output_type": "stream",
     "text": [
      "Invalid choice. Please try again.\n",
      "\n",
      "--- Inventory Management System ---\n",
      "1. Add Item\n",
      "2. Display Items\n",
      "3. Update Item\n",
      "4. Delete Item\n",
      "5. Exit\n"
     ]
    }
   ],
   "source": [
    "# Define a function to display the menu and take user input\n",
    "def show_menu():\n",
    "    print(\"\\n--- Inventory Management System ---\")\n",
    "    print(\"1. Add Item\")\n",
    "    print(\"2. Display Items\")\n",
    "    print(\"3. Update Item\")\n",
    "    print(\"4. Delete Item\")\n",
    "    print(\"5. Exit\")\n",
    "    return input(\"Enter your choice: \")\n",
    "\n",
    "# Main function to run the inventory system\n",
    "def main():\n",
    "    inventory = Inventory()\n",
    "    \n",
    "    while True:\n",
    "        choice = show_menu()\n",
    "        \n",
    "        if choice == '1':\n",
    "            # Add a new item\n",
    "            item_id = int(input(\"Enter Item ID: \"))\n",
    "            name = input(\"Enter Item Name: \")\n",
    "            quantity = int(input(\"Enter Quantity: \"))\n",
    "            price = float(input(\"Enter Price: \"))\n",
    "            inventory.add_item(item_id, name, quantity, price)\n",
    "        \n",
    "        elif choice == '2':\n",
    "            # Display all items\n",
    "            inventory.display_items()\n",
    "        \n",
    "        elif choice == '3':\n",
    "            # Update an existing item\n",
    "            item_id = int(input(\"Enter Item ID to update: \"))\n",
    "            name = input(\"Enter new name (leave blank to keep the same): \") or None\n",
    "            quantity = input(\"Enter new quantity (leave blank to keep the same): \")\n",
    "            quantity = int(quantity) if quantity else None\n",
    "            price = input(\"Enter new price (leave blank to keep the same): \")\n",
    "            price = float(price) if price else None\n",
    "            inventory.update_item(item_id, name, quantity, price)\n",
    "        \n",
    "        elif choice == '4':\n",
    "            # Delete an item\n",
    "            item_id = int(input(\"Enter Item ID to delete: \"))\n",
    "            inventory.delete_item(item_id)\n",
    "        \n",
    "        elif choice == '5':\n",
    "            # Exit the program\n",
    "            print(\"Exiting the Inventory Management System. Goodbye!\")\n",
    "            break\n",
    "        \n",
    "        else:\n",
    "            print(\"Invalid choice. Please try again.\")\n",
    "\n",
    "if __name__ == \"__main__\":\n",
    "    main()\n"
   ]
  },
  {
   "cell_type": "code",
   "execution_count": null,
   "id": "78cd0e32-8701-4f30-b030-f98351eb1d81",
   "metadata": {},
   "outputs": [],
   "source": []
  }
 ],
 "metadata": {
  "kernelspec": {
   "display_name": "Python 3 (ipykernel)",
   "language": "python",
   "name": "python3"
  },
  "language_info": {
   "codemirror_mode": {
    "name": "ipython",
    "version": 3
   },
   "file_extension": ".py",
   "mimetype": "text/x-python",
   "name": "python",
   "nbconvert_exporter": "python",
   "pygments_lexer": "ipython3",
   "version": "3.11.4"
  }
 },
 "nbformat": 4,
 "nbformat_minor": 5
}
